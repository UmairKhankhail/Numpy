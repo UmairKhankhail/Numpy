{
 "cells": [
  {
   "cell_type": "code",
   "execution_count": 15,
   "metadata": {},
   "outputs": [
    {
     "name": "stdout",
     "output_type": "stream",
     "text": [
      "Enter how many numbers you want in the series: 5\n",
      "0\n",
      "1\n",
      "1\n",
      "2\n",
      "3\n"
     ]
    }
   ],
   "source": [
    "#Fibonacci Series: The first two numbers are always Zero (0) & One (1) while the rest of the series is obtained by adding the previos single digit\n",
    "#(0 +1)--> 1 (1+1)--> 2 () 3 5 8 ...\n",
    "number=int(input(\"Enter how many numbers you want in the series: \"))\n",
    "first=0\n",
    "second=1\n",
    "for i in range(number):\n",
    "    print(first)\n",
    "    temp=first\n",
    "    first=second\n",
    "    second=temp+first\n"
   ]
  },
  {
   "cell_type": "code",
   "execution_count": 17,
   "metadata": {},
   "outputs": [
    {
     "name": "stdout",
     "output_type": "stream",
     "text": [
      " *  \n",
      " *   *  \n",
      " *   *   *  \n",
      " *   *   *   *  \n",
      " *   *   *   *   *  \n"
     ]
    }
   ],
   "source": [
    "#Nested Loops\n",
    "for i in range(1,6):\n",
    "    for j in range(i):\n",
    "        print(\" * \",end=\" \")\n",
    "    print()"
   ]
  },
  {
   "cell_type": "code",
   "execution_count": 21,
   "metadata": {},
   "outputs": [],
   "source": [
    "for i in range(5,1):\n",
    "    print(i)"
   ]
  },
  {
   "cell_type": "code",
   "execution_count": 2,
   "metadata": {},
   "outputs": [
    {
     "name": "stdout",
     "output_type": "stream",
     "text": [
      "* * * * * * \n",
      "* * * * * \n",
      "* * * * \n",
      "* * * \n",
      "* * \n",
      "* \n"
     ]
    }
   ],
   "source": [
    "#This loop runs untill 5\n",
    "for i in range(6):\n",
    "    #Just after the outer loop, the inner loop runs\n",
    "    for j in range(6-i):\n",
    "        #This loop runs from j to 6-i and will print * on the same line because of end=\"\" function.\n",
    "        print(\"*\",end=\" \")\n",
    "    #As the inner loop completes, this print fuction will shift the loop to the next row\n",
    "    print()"
   ]
  },
  {
   "cell_type": "code",
   "execution_count": 6,
   "metadata": {},
   "outputs": [
    {
     "name": "stdout",
     "output_type": "stream",
     "text": [
      "Enter the series you want to get: 5\n",
      "0\n",
      "1\n",
      "1\n",
      "2\n",
      "3\n"
     ]
    }
   ],
   "source": [
    "#Fibonacci Series\n",
    "n=int(input(\"Enter the series you want to get: \"))\n",
    "first=0\n",
    "second=1\n",
    "for i in range(n):\n",
    "    print(first)\n",
    "    temp=first\n",
    "    first=second\n",
    "    second=temp+first\n",
    "    "
   ]
  },
  {
   "cell_type": "code",
   "execution_count": null,
   "metadata": {},
   "outputs": [],
   "source": [
    "#Fibonacci Series---> 0 1 1 2 3 5 8 13 21 34\n",
    "any_number=int(input(\"Enter any number: \"))\n",
    "first=0\n",
    "second=1\n",
    "for i in range(any_number):\n",
    "    print(first)\n",
    "    temp=first\n",
    "    first=second\n",
    "    second=temp+first"
   ]
  },
  {
   "cell_type": "code",
   "execution_count": 5,
   "metadata": {},
   "outputs": [
    {
     "name": "stdout",
     "output_type": "stream",
     "text": [
      "Enter length you want to get the series: 5\n",
      "0\n",
      "1\n",
      "1\n",
      "2\n",
      "3\n"
     ]
    }
   ],
   "source": [
    "#Fibonacci Series\n",
    "number=int(input(\"Enter length you want to get the series: \"))\n",
    "first=0\n",
    "second=1\n",
    "for i in range(number):\n",
    "    print(first)\n",
    "    temp=first\n",
    "    first=second\n",
    "    second=temp+first"
   ]
  },
  {
   "cell_type": "code",
   "execution_count": 14,
   "metadata": {},
   "outputs": [
    {
     "name": "stdout",
     "output_type": "stream",
     "text": [
      "Enter the number of rows: 10\n",
      "x x x x x x x x x x \n",
      "  x               x \n",
      "    x             x \n",
      "      x           x \n",
      "        x         x \n",
      "          x       x \n",
      "            x     x \n",
      "              x   x \n",
      "                x x \n",
      "                  x \n"
     ]
    }
   ],
   "source": [
    "n=int(input(\"Enter the number of rows: \"))\n",
    "for i in range(n):\n",
    "    for j in range(n):\n",
    "        if i==0 or j==(n-1) or i==j:\n",
    "            print(\"x\",end=' ')\n",
    "        else:\n",
    "            print(end=\"  \")\n",
    "    print()"
   ]
  },
  {
   "cell_type": "code",
   "execution_count": 17,
   "metadata": {},
   "outputs": [
    {
     "name": "stdout",
     "output_type": "stream",
     "text": [
      "How are you\n"
     ]
    }
   ],
   "source": [
    "\n",
    "def my_function():\n",
    "    print(\"How are you\")\n",
    "my_function()"
   ]
  },
  {
   "cell_type": "code",
   "execution_count": 30,
   "metadata": {},
   "outputs": [],
   "source": [
    "#Difference between return and print inside the function\n",
    "def any_function():\n",
    "    variable='mess'\n",
    "    return variable\n",
    "    print(variable)"
   ]
  },
  {
   "cell_type": "code",
   "execution_count": 31,
   "metadata": {},
   "outputs": [
    {
     "name": "stdout",
     "output_type": "stream",
     "text": [
      "mess\n"
     ]
    }
   ],
   "source": [
    "print(any_function())"
   ]
  },
  {
   "cell_type": "code",
   "execution_count": 35,
   "metadata": {},
   "outputs": [],
   "source": [
    "def print_first():\n",
    "    variable='people'\n",
    "    print(variable)\n",
    "    return variable\n",
    "    '''This function should give two outputs when I pass it through print function  '''"
   ]
  },
  {
   "cell_type": "code",
   "execution_count": 36,
   "metadata": {},
   "outputs": [
    {
     "name": "stdout",
     "output_type": "stream",
     "text": [
      "people\n",
      "people\n"
     ]
    }
   ],
   "source": [
    "print(print_first())"
   ]
  },
  {
   "cell_type": "code",
   "execution_count": 43,
   "metadata": {},
   "outputs": [
    {
     "name": "stdout",
     "output_type": "stream",
     "text": [
      "This is a constructor and it always runs as create an object.\n"
     ]
    }
   ],
   "source": [
    "class Electronic():\n",
    "    \n",
    "    def __init__(self,model,size,price,condition,color):\n",
    "        print(\"This is a constructor and it always runs as create an object.\")\n",
    "        self.Model=model\n",
    "        self.Size=size\n",
    "        self.Price=price\n",
    "        self.Condition=condition\n",
    "        self.Color=color\n",
    "        \n",
    "    def GetInformation(self):\n",
    "        return \"Model: \"+str(self.Model)+\" Size: \"+str(self.Size)+\" Price: \"+str(self.Price)+\" Condition: \"+self.Color\n",
    "device1=Electronic(2020,\"20 m^2\",10000,'Brand New','Black')"
   ]
  },
  {
   "cell_type": "code",
   "execution_count": 45,
   "metadata": {},
   "outputs": [
    {
     "name": "stdout",
     "output_type": "stream",
     "text": [
      "Model: 2020 Size: 20 m^2 Price: 10000 Condition: Black\n"
     ]
    }
   ],
   "source": [
    "print(device1.GetInformation())"
   ]
  },
  {
   "cell_type": "code",
   "execution_count": 46,
   "metadata": {},
   "outputs": [],
   "source": [
    "#Arguments are of three positional, keywords and default argument"
   ]
  },
  {
   "cell_type": "code",
   "execution_count": 49,
   "metadata": {},
   "outputs": [
    {
     "name": "stdout",
     "output_type": "stream",
     "text": [
      "My name is:  Umair Khan\n"
     ]
    }
   ],
   "source": [
    "# 1. Positional Arguments\n",
    "def positional_argument(name):\n",
    "    print(\"My name is: \",name)\n",
    "positional_argument((\"Umair Khan\"))"
   ]
  },
  {
   "cell_type": "code",
   "execution_count": 55,
   "metadata": {},
   "outputs": [
    {
     "name": "stdout",
     "output_type": "stream",
     "text": [
      "200\n",
      "1025\n",
      "1100\n"
     ]
    }
   ],
   "source": [
    "#Default Argumens\n",
    "\n",
    "def add_num(n1=100,n2=100):\n",
    "    sum=n1+n2\n",
    "    return sum\n",
    "print(add_num())\n",
    "#if we want to alter the values to be added,so;\n",
    "print(add_num(1000,25))\n",
    "print(add_num(1000))"
   ]
  },
  {
   "cell_type": "code",
   "execution_count": 66,
   "metadata": {},
   "outputs": [
    {
     "name": "stdout",
     "output_type": "stream",
     "text": [
      "10\n"
     ]
    }
   ],
   "source": [
    "#An absolute value is the value which is always positive\n",
    "def absolute_value(number):\n",
    "    if number<0: \n",
    "       var=number*(-1)\n",
    "    else:\n",
    "       var=number\n",
    "    return var\n",
    "print(absolute_value(-10))"
   ]
  },
  {
   "cell_type": "code",
   "execution_count": 65,
   "metadata": {},
   "outputs": [
    {
     "name": "stdout",
     "output_type": "stream",
     "text": [
      "Umar Khan\n",
      "This message is written for key word argument function.\n"
     ]
    }
   ],
   "source": [
    "#Keyword Arguments\n",
    "def key_word_arguments(name,message):\n",
    "    print(name)\n",
    "    print(message)\n",
    "\n",
    "key_word_arguments(name=\"Umar Khan\",message=\"This message is written for key word argument function.\")"
   ]
  },
  {
   "cell_type": "code",
   "execution_count": 122,
   "metadata": {},
   "outputs": [
    {
     "name": "stdout",
     "output_type": "stream",
     "text": [
      "44\n"
     ]
    }
   ],
   "source": [
    "\n",
    "list3=[44,25,1,60]\n",
    "\n",
    "for i in range(len(list3)): #i=1\n",
    "    for j in range(1,i+1): #j=1\n",
    "        temp=list3[i]\n",
    "        if list3[i]>list3[j]:\n",
    "            list3[j]=list3[i]\n",
    "        else:\n",
    "            list3[i]=list3[j]\n",
    "\n",
    "print(list3[0])\n",
    "\n",
    "            \n",
    "    "
   ]
  },
  {
   "cell_type": "code",
   "execution_count": null,
   "metadata": {},
   "outputs": [],
   "source": []
  },
  {
   "cell_type": "code",
   "execution_count": null,
   "metadata": {},
   "outputs": [],
   "source": []
  }
 ],
 "metadata": {
  "kernelspec": {
   "display_name": "Python 3",
   "language": "python",
   "name": "python3"
  },
  "language_info": {
   "codemirror_mode": {
    "name": "ipython",
    "version": 3
   },
   "file_extension": ".py",
   "mimetype": "text/x-python",
   "name": "python",
   "nbconvert_exporter": "python",
   "pygments_lexer": "ipython3",
   "version": "3.8.3"
  }
 },
 "nbformat": 4,
 "nbformat_minor": 4
}
